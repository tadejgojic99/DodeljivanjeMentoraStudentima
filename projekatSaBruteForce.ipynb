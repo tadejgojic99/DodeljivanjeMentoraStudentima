{
 "cells": [
  {
   "cell_type": "code",
   "execution_count": 195,
   "metadata": {},
   "outputs": [],
   "source": [
    "import numpy as np\n",
    "import random\n",
    "import copy"
   ]
  },
  {
   "cell_type": "code",
   "execution_count": 196,
   "metadata": {},
   "outputs": [],
   "source": [
    "class Individual:\n",
    "    \n",
    "    def __init__(self, mentoriZauzetost, zeljeStudenata):\n",
    "        self.mentoriZauzetost = copy.deepcopy(mentoriZauzetost)\n",
    "        self.zeljeStudenata = copy.deepcopy(zeljeStudenata)\n",
    "        self.brMentora = len(mentoriZauzetost)\n",
    "        self.brStudenata = len(zeljeStudenata)\n",
    "        self.maxBrojStudenata = sum(mentoriZauzetost)\n",
    "        \n",
    "        if self.maxBrojStudenata < self.brStudenata:\n",
    "            print('Kapaciteti popunjeni! Nije moguce dodeliti mentora svakom studentu!')\n",
    "        \n",
    "        studenti = [i for i in range(0, self.brStudenata)]\n",
    "        random.shuffle(studenti)\n",
    "        mentori = []\n",
    "        br=0\n",
    "        for i in range(self.brMentora):\n",
    "            for j in range(self.mentoriZauzetost[i]):\n",
    "                if br + j > self.brStudenata:\n",
    "                    break\n",
    "                else :\n",
    "                    mentori.append(i)\n",
    "            br += j\n",
    "        self.code = []\n",
    "        for i in range(self.brStudenata):\n",
    "            self.code.append((studenti[i], mentori[i]))\n",
    "        self.fitness = self.fitnessFunction()\n",
    "        \n",
    "    def fitnessFunction(self):\n",
    "        val = 0\n",
    "        for i in range(self.brStudenata):\n",
    "            val += self.geneFitness(i)\n",
    "        return val\n",
    "    \n",
    "    def geneFitness(self, i):\n",
    "        (student, mentor) = self.code[i]\n",
    "        return self.zeljeStudenata[student][mentor]*self.zeljeStudenata[student][mentor]\n",
    "    \n",
    "    def __lt__(self, other):\n",
    "        return self.fitness < other.fitness"
   ]
  },
  {
   "cell_type": "code",
   "execution_count": 197,
   "metadata": {},
   "outputs": [],
   "source": [
    "def mutation(individual, mutation_rate):\n",
    "    \n",
    "    if random.uniform(0,1) < mutation_rate:\n",
    "        i = random.randrange(individual.brStudenata)\n",
    "        j = random.randrange(individual.brStudenata)\n",
    "        tmp = individual.code[i][0]\n",
    "        individual.code[i] = (individual.code[j][0], individual.code[i][1])\n",
    "        individual.code[j] = (tmp, individual.code[j][1])\n",
    "    "
   ]
  },
  {
   "cell_type": "code",
   "execution_count": 198,
   "metadata": {},
   "outputs": [],
   "source": [
    "def selection(population, tournament_size):\n",
    "    val = float('inf')\n",
    "    bestInd = -1\n",
    "    for _ in range(tournament_size):\n",
    "        i = random.randrange(len(population))\n",
    "        if population[i].fitness < val:\n",
    "            val = population[i].fitness\n",
    "            bestInd = i\n",
    "    return bestInd"
   ]
  },
  {
   "cell_type": "code",
   "execution_count": 199,
   "metadata": {},
   "outputs": [],
   "source": [
    "def crossover(parent1, parent2, child1, child2):\n",
    "    \n",
    "    n = parent1.brStudenata\n",
    "    dodeljeni1 = set()\n",
    "    dodeljeni2 = set()\n",
    "    nisuDodeljenji1 = set()\n",
    "    nisuDodeljenji2 = set()\n",
    "    for i in range(n):\n",
    "        nisuDodeljenji1.add(parent1.code[i][0])\n",
    "        nisuDodeljenji2.add(parent1.code[i][0])\n",
    "    for i in range(n):\n",
    "        child1.code[i] = (-1, child1.code[i][1])\n",
    "        child2.code[i] = (-1, child2.code[i][1])\n",
    "    for i in range(n):\n",
    "        if parent1.geneFitness(i) < parent2.geneFitness(i) and parent1.code[i][0] not in dodeljeni1 and parent1.code[i][0] in nisuDodeljenji1:\n",
    "            child1.code[i] = (parent1.code[i][0], child1.code[i][1])\n",
    "            dodeljeni1.add(child1.code[i][0])\n",
    "            nisuDodeljenji1.remove(child1.code[i][0])\n",
    "        elif parent1.geneFitness(i) > parent2.geneFitness(i) and parent2.code[i][0] not in dodeljeni1 and parent2.code[i][0] in nisuDodeljenji1:\n",
    "            child1.code[i] = (parent2.code[i][0], child1.code[i][1])\n",
    "            dodeljeni1.add(child1.code[i][0])\n",
    "            nisuDodeljenji1.remove(child1.code[i][0])\n",
    "    \n",
    "    k=n-1\n",
    "    while k>=0:\n",
    "        if parent1.geneFitness(k) < parent2.geneFitness(k) and parent1.code[k][0] not in dodeljeni2 and parent1.code[k][0] in nisuDodeljenji2:\n",
    "            child2.code[k] = (parent1.code[k][0], child2.code[k][1])\n",
    "            dodeljeni2.add(child2.code[k][0])\n",
    "            nisuDodeljenji2.remove(child2.code[k][0])\n",
    "        elif parent1.geneFitness(k) > parent2.geneFitness(k) and parent2.code[k][0] not in dodeljeni2 and parent2.code[k][0] in nisuDodeljenji2:\n",
    "            child2.code[k] = (parent2.code[k][0], child2.code[k][1])\n",
    "            dodeljeni2.add(child2.code[k][0])\n",
    "            nisuDodeljenji2.remove(child2.code[k][0])\n",
    "        k-=1\n",
    "    \n",
    "    for i in range(n):\n",
    "        if child1.code[i][0] == -1:\n",
    "           \n",
    "            child1.code[i] = (random.sample(nisuDodeljenji1, 1)[0], child1.code[i][1])\n",
    "            \n",
    "            nisuDodeljenji1.remove(child1.code[i][0])\n",
    "        if child2.code[i][0] == -1:\n",
    "           \n",
    "            child2.code[i] = (random.sample(nisuDodeljenji2, 1)[0], child2.code[i][1])\n",
    "            \n",
    "            nisuDodeljenji2.remove(child2.code[i][0])\n",
    "            \n",
    "    child1.fitness = child1.fitnessFunction()\n",
    "    child2.fitness = child2.fitnessFunction()\n",
    "    \n",
    "    if child1.fitness > parent1.fitness:\n",
    "        child1 = parent1\n",
    "    if child1.fitness > parent2.fitness:\n",
    "        child1 = parent2\n",
    "    if child2.fitness > parent1.fitness:\n",
    "        child2 = parent1\n",
    "    if child2.fitness > parent2.fitness:\n",
    "        child2 = parent2"
   ]
  },
  {
   "cell_type": "code",
   "execution_count": 200,
   "metadata": {},
   "outputs": [],
   "source": [
    "def generisiPrimer(brMentora, brStudenata):\n",
    "    mentoriZauzetost = [random.randint(int(brStudenata/brMentora)-int(brStudenata/(brMentora*4)),int(brStudenata/brMentora)+2*int(brStudenata/(brMentora*4))) for i in range(brMentora)]\n",
    "    zeljeStudenata = [[int(i) for i in range(brMentora)] for j in range(brStudenata)]\n",
    "\n",
    "    for i in range(len(zeljeStudenata)):\n",
    "        random.shuffle(zeljeStudenata[i])\n",
    "    \n",
    "    return mentoriZauzetost, zeljeStudenata\n",
    "    "
   ]
  },
  {
   "cell_type": "code",
   "execution_count": 201,
   "metadata": {},
   "outputs": [],
   "source": [
    "mentoriZauzetost, zeljeStudenata = generisiPrimer(2, 4)\n"
   ]
  },
  {
   "cell_type": "code",
   "execution_count": 202,
   "metadata": {},
   "outputs": [
    {
     "name": "stdout",
     "output_type": "stream",
     "text": [
      "Svakom studentu je ispunjena prva zelja!\n",
      "najbolja vrednost GA:  0\n",
      "najbolje resenje GA:\n",
      "[(1, 0), (0, 0), (3, 1), (2, 1)]\n"
     ]
    }
   ],
   "source": [
    "# mentoriZauzetost, zeljeStudenata = generisiPrimer(10, 50)\n",
    "population_size = 100\n",
    "mutation_rate = 0.1\n",
    "tournament_size = 6\n",
    "max_iter = 1000\n",
    "elitism_size = 20\n",
    "population = [Individual(mentoriZauzetost, zeljeStudenata) for _ in range(population_size)]\n",
    "new_population = [Individual(mentoriZauzetost, zeljeStudenata) for _ in range(population_size)]\n",
    "# for i in range(population_size):\n",
    "#     print(population[i].code)\n",
    "\n",
    "for iteration in range(max_iter):\n",
    "    population.sort()\n",
    "    \n",
    "    \n",
    "    #print(iteration,'-ta iteracija, najbolji fitness je: ', population[0].fitness)\n",
    "    if population[0].fitness == 0:\n",
    "        print(\"Svakom studentu je ispunjena prva zelja!\")\n",
    "        break\n",
    "    for i in range(elitism_size):\n",
    "        new_population[i] = population[i]\n",
    "    for i in range(elitism_size, population_size, 2):\n",
    "        p1 = selection(population, tournament_size)\n",
    "        p2 = selection(population, tournament_size)\n",
    "        \n",
    "        crossover(population[p1], population[p2], new_population[i], new_population[i+1])\n",
    "        \n",
    "        mutation(new_population[i], mutation_rate)\n",
    "        mutation(new_population[i+1], mutation_rate)\n",
    "        new_population[i].fitness = new_population[i].fitnessFunction()\n",
    "        new_population[i+1].fitness = new_population[i+1].fitnessFunction()\n",
    "        \n",
    "    population = new_population\n",
    "\n",
    "population.sort()\n",
    "print('najbolja vrednost GA: ', population[0].fitness)\n",
    "print('najbolje resenje GA:')\n",
    "print(population[0].code)\n"
   ]
  },
  {
   "cell_type": "code",
   "execution_count": null,
   "metadata": {},
   "outputs": [],
   "source": []
  },
  {
   "cell_type": "code",
   "execution_count": 203,
   "metadata": {},
   "outputs": [
    {
     "name": "stdout",
     "output_type": "stream",
     "text": [
      "1. studentu je dodeljen 0. i ispunjena mu je 0. zelja\n",
      "0. studentu je dodeljen 0. i ispunjena mu je 0. zelja\n",
      "3. studentu je dodeljen 1. i ispunjena mu je 0. zelja\n",
      "2. studentu je dodeljen 1. i ispunjena mu je 0. zelja\n",
      "100.0% studenata je ispunjena prva zelja\n",
      "najgora ispunjena zelja se nalazi u prvih 0.0% zelja na listi\n",
      "{0: 4}\n",
      "\n"
     ]
    }
   ],
   "source": [
    "brPrvihZelja = 0\n",
    "najgoraZelja = 0\n",
    "ispunjeneZelje = {}\n",
    "for i in range(len(population[0].code)):\n",
    "    print(\"{}. studentu je dodeljen {}. i ispunjena mu je {}. zelja\".format(population[0].code[i][0], population[0].code[i][1], population[0].geneFitness(i)))\n",
    "    if population[0].geneFitness(i) == 0:\n",
    "        brPrvihZelja +=1\n",
    "    if population[0].geneFitness(i) > najgoraZelja:\n",
    "        najgoraZelja = population[0].geneFitness(i)\n",
    "    if population[0].geneFitness(i) not in ispunjeneZelje:\n",
    "        ispunjeneZelje[population[0].geneFitness(i)] = 1\n",
    "    else:\n",
    "        ispunjeneZelje[population[0].geneFitness(i)] +=1\n",
    "print(\"{}% studenata je ispunjena prva zelja\".format((brPrvihZelja*100)/population[0].brStudenata))\n",
    "print(\"najgora ispunjena zelja se nalazi u prvih {}% zelja na listi\".format((najgoraZelja*100)/population[0].brMentora))\n",
    "\n",
    "print(ispunjeneZelje)\n",
    "print()"
   ]
  },
  {
   "cell_type": "code",
   "execution_count": 204,
   "metadata": {},
   "outputs": [],
   "source": [
    "\n",
    "brStudenata = len(zeljeStudenata)\n",
    "brMentora = len(mentoriZauzetost)\n",
    "mentoriKapacitet = sum(mentoriZauzetost)"
   ]
  },
  {
   "cell_type": "code",
   "execution_count": 205,
   "metadata": {},
   "outputs": [
    {
     "name": "stdout",
     "output_type": "stream",
     "text": [
      "Requirement already satisfied: python-constraint in c:\\users\\teodo\\anaconda3\\lib\\site-packages (1.4.0)\n"
     ]
    }
   ],
   "source": [
    "!pip install python-constraint"
   ]
  },
  {
   "cell_type": "code",
   "execution_count": 206,
   "metadata": {},
   "outputs": [],
   "source": [
    "import constraint\n",
    "mapirajMentore = {}\n",
    "br=0\n",
    "for i in range(len(mentoriZauzetost)):\n",
    "    for j in range(mentoriZauzetost[i]):\n",
    "        \n",
    "        mapirajMentore[br] = i\n",
    "        br += 1"
   ]
  },
  {
   "cell_type": "code",
   "execution_count": 207,
   "metadata": {},
   "outputs": [],
   "source": [
    "problem = constraint.Problem()\n"
   ]
  },
  {
   "cell_type": "code",
   "execution_count": 208,
   "metadata": {},
   "outputs": [],
   "source": [
    "# npr niz[i]=j oznacava da je mentoru mapirajMentore[i] dodeljen j-ti student\n",
    "problem.addVariables(['mentor_{}'.format(i) for i in range(min(mentoriKapacitet, brStudenata))], range(brStudenata))\n",
    "problem.addConstraint(constraint.AllDifferentConstraint())\n"
   ]
  },
  {
   "cell_type": "code",
   "execution_count": null,
   "metadata": {},
   "outputs": [],
   "source": []
  },
  {
   "cell_type": "code",
   "execution_count": 209,
   "metadata": {},
   "outputs": [],
   "source": [
    "solutions = problem.getSolutions()"
   ]
  },
  {
   "cell_type": "code",
   "execution_count": null,
   "metadata": {},
   "outputs": [],
   "source": []
  },
  {
   "cell_type": "code",
   "execution_count": 210,
   "metadata": {},
   "outputs": [
    {
     "name": "stdout",
     "output_type": "stream",
     "text": [
      "sve permutacije(sva moguca resenja) CONSTRAINT\n",
      "( 3 , 0 ) ( 2 , 0 ) ( 1 , 1 ) ( 0 , 1 ) \n",
      "--------------\n",
      "( 3 , 0 ) ( 2 , 0 ) ( 0 , 1 ) ( 1 , 1 ) \n",
      "--------------\n",
      "( 3 , 0 ) ( 1 , 0 ) ( 2 , 1 ) ( 0 , 1 ) \n",
      "--------------\n",
      "( 3 , 0 ) ( 1 , 0 ) ( 0 , 1 ) ( 2 , 1 ) \n",
      "--------------\n",
      "( 3 , 0 ) ( 0 , 0 ) ( 1 , 1 ) ( 2 , 1 ) \n",
      "--------------\n",
      "( 3 , 0 ) ( 0 , 0 ) ( 2 , 1 ) ( 1 , 1 ) \n",
      "--------------\n",
      "( 2 , 0 ) ( 3 , 0 ) ( 0 , 1 ) ( 1 , 1 ) \n",
      "--------------\n",
      "( 2 , 0 ) ( 3 , 0 ) ( 1 , 1 ) ( 0 , 1 ) \n",
      "--------------\n",
      "( 2 , 0 ) ( 1 , 0 ) ( 3 , 1 ) ( 0 , 1 ) \n",
      "--------------\n",
      "( 2 , 0 ) ( 1 , 0 ) ( 0 , 1 ) ( 3 , 1 ) \n",
      "--------------\n",
      "( 2 , 0 ) ( 0 , 0 ) ( 1 , 1 ) ( 3 , 1 ) \n",
      "--------------\n",
      "( 2 , 0 ) ( 0 , 0 ) ( 3 , 1 ) ( 1 , 1 ) \n",
      "--------------\n",
      "( 1 , 0 ) ( 2 , 0 ) ( 0 , 1 ) ( 3 , 1 ) \n",
      "--------------\n",
      "( 1 , 0 ) ( 2 , 0 ) ( 3 , 1 ) ( 0 , 1 ) \n",
      "--------------\n",
      "( 1 , 0 ) ( 3 , 0 ) ( 2 , 1 ) ( 0 , 1 ) \n",
      "--------------\n",
      "( 1 , 0 ) ( 3 , 0 ) ( 0 , 1 ) ( 2 , 1 ) \n",
      "--------------\n",
      "( 1 , 0 ) ( 0 , 0 ) ( 3 , 1 ) ( 2 , 1 ) \n",
      "--------------\n",
      "( 1 , 0 ) ( 0 , 0 ) ( 2 , 1 ) ( 3 , 1 ) \n",
      "--------------\n",
      "( 0 , 0 ) ( 1 , 0 ) ( 3 , 1 ) ( 2 , 1 ) \n",
      "--------------\n",
      "( 0 , 0 ) ( 1 , 0 ) ( 2 , 1 ) ( 3 , 1 ) \n",
      "--------------\n",
      "( 0 , 0 ) ( 2 , 0 ) ( 1 , 1 ) ( 3 , 1 ) \n",
      "--------------\n",
      "( 0 , 0 ) ( 2 , 0 ) ( 3 , 1 ) ( 1 , 1 ) \n",
      "--------------\n",
      "( 0 , 0 ) ( 3 , 0 ) ( 2 , 1 ) ( 1 , 1 ) \n",
      "--------------\n",
      "( 0 , 0 ) ( 3 , 0 ) ( 1 , 1 ) ( 2 , 1 ) \n",
      "--------------\n"
     ]
    }
   ],
   "source": [
    "min_val = brStudenata*brMentora\n",
    "najbolje_resenje = None\n",
    "print('sve permutacije(sva moguca resenja) CONSTRAINT')\n",
    "for sol in solutions:\n",
    "    val = 0\n",
    "    for example in sol:\n",
    "        print('(',sol[example], ',', mapirajMentore[int(example.strip('mentor_'))], ')', end=' ')\n",
    "        ment = int(example.strip('mentor_'))\n",
    "#         print('student {} = {}'.format(sol[example], zeljeStudenata[int(sol[example])][mapirajMentore[ment]]))\n",
    "        val += zeljeStudenata[int(sol[example])][mapirajMentore[ment]]\n",
    "    if min_val>val:\n",
    "        min_val = val\n",
    "        najbolje_resenje = sol\n",
    "    print()\n",
    "    print('--------------')\n"
   ]
  },
  {
   "cell_type": "code",
   "execution_count": 211,
   "metadata": {},
   "outputs": [
    {
     "name": "stdout",
     "output_type": "stream",
     "text": [
      "najbolja vrednost CONSTRAINT:  0\n",
      "najbolje resenje CONSTRAINT: \n",
      "( 1 , 0 ) ( 0 , 0 ) ( 3 , 1 ) ( 2 , 1 ) \n"
     ]
    }
   ],
   "source": [
    "print('najbolja vrednost CONSTRAINT: ',min_val)\n",
    "\n",
    "print('najbolje resenje CONSTRAINT: ')\n",
    "for el in najbolje_resenje:\n",
    "    print('(',najbolje_resenje[el], ',',mapirajMentore[int(el.strip('mentor_'))],')', end=' ')\n",
    "print()"
   ]
  },
  {
   "cell_type": "code",
   "execution_count": 212,
   "metadata": {},
   "outputs": [],
   "source": [
    "from itertools import permutations\n",
    "\n",
    "import copy\n",
    "import math\n"
   ]
  },
  {
   "cell_type": "code",
   "execution_count": 213,
   "metadata": {},
   "outputs": [],
   "source": [
    "def generisi_niz(mentoriZauzetost, zeljeStudenata):\n",
    "    \n",
    "    mentoriZauzetost = copy.deepcopy(mentoriZauzetost)\n",
    "    zeljeStudenata = copy.deepcopy(zeljeStudenata)\n",
    "    brMentora = len(mentoriZauzetost)\n",
    "    brStudenata = len(zeljeStudenata)\n",
    "    maxBrojStudenata = sum(mentoriZauzetost)\n",
    "        \n",
    "    if maxBrojStudenata < brStudenata:\n",
    "        print('Kapaciteti popunjeni! Nije moguce dodeliti mentora svakom studentu!')\n",
    "        return\n",
    "    \n",
    "    studenti = [i for i in range(0, brStudenata)]\n",
    "    random.shuffle(studenti)\n",
    "    mentori = []\n",
    "    br=0\n",
    "    for i in range(brMentora):\n",
    "        for j in range(mentoriZauzetost[i]):\n",
    "            if br + j > brStudenata:\n",
    "                break\n",
    "            else :\n",
    "                mentori.append(i)\n",
    "        br += j\n",
    "#     code = []\n",
    "#     for i in range(brStudenata):\n",
    "#         code.append((studenti[i], mentori[i]))\n",
    "#     for rbr, zelje in zip(range(brStudenata), zeljeStudenata):\n",
    "#         print('{0}: '.format(rbr), zelje)\n",
    "    \n",
    "    print()\n",
    "    print('sve permutacije')\n",
    "    najbolje_resenje = []\n",
    "    najbolja_ocena = math.inf\n",
    "    svi_mentori = list(permutations(mentori))\n",
    "    for ment in svi_mentori:\n",
    "        trenutno_resenje = list(zip(studenti, ment))\n",
    "        print(trenutno_resenje)\n",
    "        ocena = 0\n",
    "        for par in trenutno_resenje:\n",
    "            broj_iter = 0\n",
    "            for z in zeljeStudenata[par[0]]:\n",
    "                if z == par[1]:\n",
    "                    break\n",
    "                broj_iter += 1\n",
    "            ocena += broj_iter\n",
    "        \n",
    "        if ocena < najbolja_ocena:\n",
    "            najbolja_ocena = ocena\n",
    "            najbolje_resenje = trenutno_resenje\n",
    "        \n",
    "    print('najbolja vrednost BRUTE FORCE: ', najbolja_ocena)\n",
    "\n",
    "    print('najbolje resenje BRUTE FORCE: ')\n",
    "    print(najbolje_resenje)"
   ]
  },
  {
   "cell_type": "code",
   "execution_count": 214,
   "metadata": {},
   "outputs": [
    {
     "name": "stdout",
     "output_type": "stream",
     "text": [
      "\n",
      "sve permutacije\n",
      "[(3, 0), (1, 0), (0, 1), (2, 1)]\n",
      "[(3, 0), (1, 0), (0, 1), (2, 1)]\n",
      "[(3, 0), (1, 1), (0, 0), (2, 1)]\n",
      "[(3, 0), (1, 1), (0, 1), (2, 0)]\n",
      "[(3, 0), (1, 1), (0, 0), (2, 1)]\n",
      "[(3, 0), (1, 1), (0, 1), (2, 0)]\n",
      "[(3, 0), (1, 0), (0, 1), (2, 1)]\n",
      "[(3, 0), (1, 0), (0, 1), (2, 1)]\n",
      "[(3, 0), (1, 1), (0, 0), (2, 1)]\n",
      "[(3, 0), (1, 1), (0, 1), (2, 0)]\n",
      "[(3, 0), (1, 1), (0, 0), (2, 1)]\n",
      "[(3, 0), (1, 1), (0, 1), (2, 0)]\n",
      "[(3, 1), (1, 0), (0, 0), (2, 1)]\n",
      "[(3, 1), (1, 0), (0, 1), (2, 0)]\n",
      "[(3, 1), (1, 0), (0, 0), (2, 1)]\n",
      "[(3, 1), (1, 0), (0, 1), (2, 0)]\n",
      "[(3, 1), (1, 1), (0, 0), (2, 0)]\n",
      "[(3, 1), (1, 1), (0, 0), (2, 0)]\n",
      "[(3, 1), (1, 0), (0, 0), (2, 1)]\n",
      "[(3, 1), (1, 0), (0, 1), (2, 0)]\n",
      "[(3, 1), (1, 0), (0, 0), (2, 1)]\n",
      "[(3, 1), (1, 0), (0, 1), (2, 0)]\n",
      "[(3, 1), (1, 1), (0, 0), (2, 0)]\n",
      "[(3, 1), (1, 1), (0, 0), (2, 0)]\n",
      "najbolja vrednost BRUTE FORCE:  0\n",
      "najbolje resenje BRUTE FORCE: \n",
      "[(3, 1), (1, 0), (0, 0), (2, 1)]\n"
     ]
    }
   ],
   "source": [
    "generisi_niz(mentoriZauzetost,zeljeStudenata)"
   ]
  },
  {
   "cell_type": "code",
   "execution_count": null,
   "metadata": {},
   "outputs": [],
   "source": []
  },
  {
   "cell_type": "code",
   "execution_count": null,
   "metadata": {},
   "outputs": [],
   "source": []
  },
  {
   "cell_type": "code",
   "execution_count": null,
   "metadata": {},
   "outputs": [],
   "source": []
  },
  {
   "cell_type": "code",
   "execution_count": null,
   "metadata": {},
   "outputs": [],
   "source": []
  }
 ],
 "metadata": {
  "kernelspec": {
   "display_name": "Python 3",
   "language": "python",
   "name": "python3"
  },
  "language_info": {
   "codemirror_mode": {
    "name": "ipython",
    "version": 3
   },
   "file_extension": ".py",
   "mimetype": "text/x-python",
   "name": "python",
   "nbconvert_exporter": "python",
   "pygments_lexer": "ipython3",
   "version": "3.8.5"
  }
 },
 "nbformat": 4,
 "nbformat_minor": 4
}
