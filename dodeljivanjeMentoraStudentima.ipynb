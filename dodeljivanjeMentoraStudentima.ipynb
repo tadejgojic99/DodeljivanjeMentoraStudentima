{
 "cells": [
  {
   "cell_type": "code",
   "execution_count": 153,
   "metadata": {},
   "outputs": [],
   "source": [
    "import numpy as np\n",
    "import random\n",
    "import copy"
   ]
  },
  {
   "cell_type": "code",
   "execution_count": 21,
   "metadata": {},
   "outputs": [],
   "source": [
    "class Individual:\n",
    "    \n",
    "    def __init__(self, mentoriZauzetost, zeljeStudenata):\n",
    "        self.mentoriZauzetost = copy.deepcopy(mentoriZauzetost)\n",
    "        self.zeljeStudenata = copy.deepcopy(zeljeStudenata)\n",
    "        self.brMentora = len(mentoriZauzetost)\n",
    "        self.brStudenata = len(zeljeStudenata)\n",
    "        self.maxBrojStudenata = sum(mentoriZauzetost)\n",
    "        \n",
    "        if self.maxBrojStudenata < self.brStudenata:\n",
    "            print('Kapaciteti popunjeni! Nije moguce dodeliti mentora svakom studentu!')\n",
    "        \n",
    "        studenti = [i for i in range(0, self.brStudenata)]\n",
    "        random.shuffle(studenti)\n",
    "        mentori = []\n",
    "        br=0\n",
    "        for i in range(self.brMentora):\n",
    "            for j in range(self.mentoriZauzetost[i]):\n",
    "                if br + j > self.brStudenata:\n",
    "                    break\n",
    "                else :\n",
    "                    mentori.append(i)\n",
    "            br += j\n",
    "        self.code = []\n",
    "        for i in range(self.brStudenata):\n",
    "            self.code.append((studenti[i], mentori[i]))\n",
    "        self.fitness = self.fitnessFunction()\n",
    "        \n",
    "    def fitnessFunction(self):\n",
    "        val = 0\n",
    "        for i in range(self.brStudenata):\n",
    "            val += self.geneFitness(i)\n",
    "        return val\n",
    "    \n",
    "    def geneFitness(self, i):\n",
    "        (student, mentor) = self.code[i]\n",
    "        return self.zeljeStudenata[student][mentor]\n",
    "    \n",
    "    def __lt__(self, other):\n",
    "        return self.fitness < other.fitness"
   ]
  },
  {
   "cell_type": "code",
   "execution_count": 22,
   "metadata": {},
   "outputs": [],
   "source": [
    "def mutation(individual, mutation_rate):\n",
    "    \n",
    "    if random.uniform(0,1) < mutation_rate:\n",
    "        i = random.randrange(individual.brStudenata)\n",
    "        j = random.randrange(individual.brStudenata)\n",
    "        tmp = individual.code[i][0]\n",
    "        individual.code[i] = (individual.code[j][0], individual.code[i][1])\n",
    "        individual.code[j] = (tmp, individual.code[j][1])\n",
    "    "
   ]
  },
  {
   "cell_type": "code",
   "execution_count": 23,
   "metadata": {},
   "outputs": [],
   "source": [
    "def selection(population, tournament_size):\n",
    "    val = float('inf')\n",
    "    bestInd = -1\n",
    "    for _ in range(tournament_size):\n",
    "        i = random.randrange(len(population))\n",
    "        if population[i].fitness < val:\n",
    "            val = population[i].fitness\n",
    "            bestInd = i\n",
    "    return bestInd"
   ]
  },
  {
   "cell_type": "code",
   "execution_count": 24,
   "metadata": {},
   "outputs": [],
   "source": [
    "def crossover(parent1, parent2, child1, child2):\n",
    "    \n",
    "    n = parent1.brStudenata\n",
    "    dodeljeni1 = set()\n",
    "    dodeljeni2 = set()\n",
    "    nisuDodeljenji1 = set()\n",
    "    nisuDodeljenji2 = set()\n",
    "    for i in range(n):\n",
    "        nisuDodeljenji1.add(parent1.code[i][0])\n",
    "        nisuDodeljenji2.add(parent1.code[i][0])\n",
    "    for i in range(n):\n",
    "        child1.code[i] = (-1, child1.code[i][1])\n",
    "        child2.code[i] = (-1, child2.code[i][1])\n",
    "    for i in range(n):\n",
    "        if parent1.geneFitness(i) < parent2.geneFitness(i) and parent1.code[i][0] not in dodeljeni1 and parent1.code[i][0] in nisuDodeljenji1:\n",
    "            child1.code[i] = (parent1.code[i][0], child1.code[i][1])\n",
    "            dodeljeni1.add(child1.code[i][0])\n",
    "            nisuDodeljenji1.remove(child1.code[i][0])\n",
    "        elif parent1.geneFitness(i) > parent2.geneFitness(i) and parent2.code[i][0] not in dodeljeni1 and parent2.code[i][0] in nisuDodeljenji1:\n",
    "            child1.code[i] = (parent2.code[i][0], child1.code[i][1])\n",
    "            dodeljeni1.add(child1.code[i][0])\n",
    "            nisuDodeljenji1.remove(child1.code[i][0])\n",
    "    \n",
    "    k=n-1\n",
    "    while k>=0:\n",
    "        if parent1.geneFitness(k) < parent2.geneFitness(k) and parent1.code[k][0] not in dodeljeni2 and parent1.code[k][0] in nisuDodeljenji2:\n",
    "            child2.code[k] = (parent1.code[k][0], child2.code[k][1])\n",
    "            dodeljeni2.add(child2.code[k][0])\n",
    "            nisuDodeljenji2.remove(child2.code[k][0])\n",
    "        elif parent1.geneFitness(k) > parent2.geneFitness(k) and parent2.code[k][0] not in dodeljeni2 and parent2.code[k][0] in nisuDodeljenji2:\n",
    "            child2.code[k] = (parent2.code[k][0], child2.code[k][1])\n",
    "            dodeljeni2.add(child2.code[k][0])\n",
    "            nisuDodeljenji2.remove(child2.code[k][0])\n",
    "        k-=1\n",
    "    \n",
    "    for i in range(n):\n",
    "        if child1.code[i][0] == -1:\n",
    "           \n",
    "            child1.code[i] = (random.sample(nisuDodeljenji1, 1)[0], child1.code[i][1])\n",
    "            \n",
    "            nisuDodeljenji1.remove(child1.code[i][0])\n",
    "        if child2.code[i][0] == -1:\n",
    "           \n",
    "            child2.code[i] = (random.sample(nisuDodeljenji2, 1)[0], child2.code[i][1])\n",
    "            \n",
    "            nisuDodeljenji2.remove(child2.code[i][0])\n",
    "            \n",
    "    child1.fitness = child1.fitnessFunction()\n",
    "    child2.fitness = child2.fitnessFunction()\n",
    "    \n",
    "    if child1.fitness > parent1.fitness:\n",
    "        child1 = parent1\n",
    "    if child1.fitness > parent2.fitness:\n",
    "        child1 = parent2\n",
    "    if child2.fitness > parent1.fitness:\n",
    "        child2 = parent1\n",
    "    if child2.fitness > parent2.fitness:\n",
    "        child2 = parent2"
   ]
  },
  {
   "cell_type": "code",
   "execution_count": 89,
   "metadata": {},
   "outputs": [],
   "source": [
    "def generisiPrimer(brMentora, brStudenata):\n",
    "    mentoriZauzetost = [random.randint(int(brStudenata/brMentora)-int(brStudenata/(brMentora*4)),int(brStudenata/brMentora)+2*int(brStudenata/(brMentora*4))) for i in range(brMentora)]\n",
    "    zeljeStudenata = [[int(i) for i in range(brMentora)] for j in range(brStudenata)]\n",
    "\n",
    "    for i in range(len(zeljeStudenata)):\n",
    "        random.shuffle(zeljeStudenata[i])\n",
    "    \n",
    "    return mentoriZauzetost, zeljeStudenata\n",
    "    "
   ]
  },
  {
   "cell_type": "code",
   "execution_count": 128,
   "metadata": {},
   "outputs": [
    {
     "name": "stdout",
     "output_type": "stream",
     "text": [
      "60 15\n"
     ]
    }
   ],
   "source": [
    "mentoriZauzetost, zeljeStudenata = generisiPrimer(15, 60)\n"
   ]
  },
  {
   "cell_type": "code",
   "execution_count": 145,
   "metadata": {},
   "outputs": [
    {
     "name": "stdout",
     "output_type": "stream",
     "text": [
      "najbolje resenje je:\n",
      "[(54, 0), (34, 0), (7, 0), (47, 1), (39, 1), (27, 1), (21, 1), (3, 1), (55, 2), (42, 2), (46, 2), (19, 2), (5, 3), (49, 3), (1, 3), (31, 3), (43, 3), (11, 3), (45, 4), (35, 4), (50, 4), (13, 4), (9, 5), (28, 5), (6, 5), (30, 5), (24, 5), (51, 5), (58, 6), (40, 6), (52, 6), (17, 6), (33, 6), (15, 7), (32, 7), (20, 7), (56, 7), (0, 7), (22, 8), (2, 8), (37, 8), (16, 8), (10, 8), (38, 8), (53, 9), (26, 9), (36, 9), (59, 9), (23, 9), (44, 10), (48, 10), (14, 10), (57, 10), (18, 10), (25, 11), (29, 11), (4, 11), (8, 11), (12, 11), (41, 12)]\n",
      "54\n"
     ]
    }
   ],
   "source": [
    "# mentoriZauzetost, zeljeStudenata = generisiPrimer(10, 50)\n",
    "population_size = 100\n",
    "mutation_rate = 0.1\n",
    "tournament_size = 6\n",
    "max_iter = 1000\n",
    "elitism_size = 20\n",
    "population = [Individual(mentoriZauzetost, zeljeStudenata) for _ in range(population_size)]\n",
    "new_population = [Individual(mentoriZauzetost, zeljeStudenata) for _ in range(population_size)]\n",
    "# for i in range(population_size):\n",
    "#     print(population[i].code)\n",
    "\n",
    "for iteration in range(max_iter):\n",
    "    population.sort()\n",
    "    \n",
    "    \n",
    "    #print(iteration,'-ta iteracija, najbolji fitness je: ', population[0].fitness)\n",
    "    if population[0].fitness == 0:\n",
    "        print(\"Svakom studentu je ispunjena prva zelja!\")\n",
    "        break\n",
    "    for i in range(elitism_size):\n",
    "        new_population[i] = population[i]\n",
    "    for i in range(elitism_size, population_size, 2):\n",
    "        p1 = selection(population, tournament_size)\n",
    "        p2 = selection(population, tournament_size)\n",
    "        \n",
    "        crossover(population[p1], population[p2], new_population[i], new_population[i+1])\n",
    "        \n",
    "        mutation(new_population[i], mutation_rate)\n",
    "        mutation(new_population[i+1], mutation_rate)\n",
    "        new_population[i].fitness = new_population[i].fitnessFunction()\n",
    "        new_population[i+1].fitness = new_population[i+1].fitnessFunction()\n",
    "        \n",
    "    population = new_population\n",
    "\n",
    "population.sort()\n",
    "\n"
   ]
  },
  {
   "cell_type": "code",
   "execution_count": null,
   "metadata": {},
   "outputs": [],
   "source": []
  },
  {
   "cell_type": "code",
   "execution_count": 148,
   "metadata": {},
   "outputs": [
    {
     "name": "stdout",
     "output_type": "stream",
     "text": [
      "0. studentu je dodeljen 7. i ispunjena mu je 2. zelja\n",
      "1. studentu je dodeljen 3. i ispunjena mu je 2. zelja\n",
      "2. studentu je dodeljen 8. i ispunjena mu je 1. zelja\n",
      "3. studentu je dodeljen 1. i ispunjena mu je 2. zelja\n",
      "4. studentu je dodeljen 11. i ispunjena mu je 5. zelja\n",
      "5. studentu je dodeljen 3. i ispunjena mu je 0. zelja\n",
      "6. studentu je dodeljen 5. i ispunjena mu je 0. zelja\n",
      "7. studentu je dodeljen 0. i ispunjena mu je 0. zelja\n",
      "8. studentu je dodeljen 11. i ispunjena mu je 0. zelja\n",
      "9. studentu je dodeljen 5. i ispunjena mu je 0. zelja\n",
      "10. studentu je dodeljen 8. i ispunjena mu je 2. zelja\n",
      "11. studentu je dodeljen 3. i ispunjena mu je 0. zelja\n",
      "12. studentu je dodeljen 11. i ispunjena mu je 0. zelja\n",
      "13. studentu je dodeljen 4. i ispunjena mu je 2. zelja\n",
      "14. studentu je dodeljen 10. i ispunjena mu je 0. zelja\n",
      "15. studentu je dodeljen 7. i ispunjena mu je 0. zelja\n",
      "16. studentu je dodeljen 8. i ispunjena mu je 1. zelja\n",
      "17. studentu je dodeljen 6. i ispunjena mu je 2. zelja\n",
      "18. studentu je dodeljen 10. i ispunjena mu je 1. zelja\n",
      "19. studentu je dodeljen 2. i ispunjena mu je 3. zelja\n",
      "20. studentu je dodeljen 7. i ispunjena mu je 2. zelja\n",
      "21. studentu je dodeljen 1. i ispunjena mu je 0. zelja\n",
      "22. studentu je dodeljen 8. i ispunjena mu je 2. zelja\n",
      "23. studentu je dodeljen 9. i ispunjena mu je 0. zelja\n",
      "24. studentu je dodeljen 5. i ispunjena mu je 0. zelja\n",
      "25. studentu je dodeljen 11. i ispunjena mu je 0. zelja\n",
      "26. studentu je dodeljen 9. i ispunjena mu je 1. zelja\n",
      "27. studentu je dodeljen 1. i ispunjena mu je 1. zelja\n",
      "28. studentu je dodeljen 5. i ispunjena mu je 3. zelja\n",
      "29. studentu je dodeljen 11. i ispunjena mu je 2. zelja\n",
      "30. studentu je dodeljen 5. i ispunjena mu je 0. zelja\n",
      "31. studentu je dodeljen 3. i ispunjena mu je 1. zelja\n",
      "32. studentu je dodeljen 7. i ispunjena mu je 0. zelja\n",
      "33. studentu je dodeljen 6. i ispunjena mu je 0. zelja\n",
      "34. studentu je dodeljen 0. i ispunjena mu je 0. zelja\n",
      "35. studentu je dodeljen 4. i ispunjena mu je 0. zelja\n",
      "36. studentu je dodeljen 9. i ispunjena mu je 4. zelja\n",
      "37. studentu je dodeljen 8. i ispunjena mu je 1. zelja\n",
      "38. studentu je dodeljen 8. i ispunjena mu je 0. zelja\n",
      "39. studentu je dodeljen 1. i ispunjena mu je 1. zelja\n",
      "40. studentu je dodeljen 6. i ispunjena mu je 0. zelja\n",
      "41. studentu je dodeljen 12. i ispunjena mu je 0. zelja\n",
      "42. studentu je dodeljen 2. i ispunjena mu je 0. zelja\n",
      "43. studentu je dodeljen 3. i ispunjena mu je 2. zelja\n",
      "44. studentu je dodeljen 10. i ispunjena mu je 0. zelja\n",
      "45. studentu je dodeljen 4. i ispunjena mu je 0. zelja\n",
      "46. studentu je dodeljen 2. i ispunjena mu je 2. zelja\n",
      "47. studentu je dodeljen 1. i ispunjena mu je 0. zelja\n",
      "48. studentu je dodeljen 10. i ispunjena mu je 0. zelja\n",
      "49. studentu je dodeljen 3. i ispunjena mu je 0. zelja\n",
      "50. studentu je dodeljen 4. i ispunjena mu je 0. zelja\n",
      "51. studentu je dodeljen 5. i ispunjena mu je 3. zelja\n",
      "52. studentu je dodeljen 6. i ispunjena mu je 1. zelja\n",
      "53. studentu je dodeljen 9. i ispunjena mu je 1. zelja\n",
      "54. studentu je dodeljen 0. i ispunjena mu je 0. zelja\n",
      "55. studentu je dodeljen 2. i ispunjena mu je 1. zelja\n",
      "56. studentu je dodeljen 7. i ispunjena mu je 1. zelja\n",
      "57. studentu je dodeljen 10. i ispunjena mu je 2. zelja\n",
      "58. studentu je dodeljen 6. i ispunjena mu je 0. zelja\n",
      "59. studentu je dodeljen 9. i ispunjena mu je 0. zelja\n",
      "51.666666666666664% studenata je ispunjena prva zelja\n",
      "najgora ispunjena zelja se nalazi u prvih 33.333333333333336% zelja na listi\n",
      "{2: 12, 1: 12, 5: 1, 0: 31, 3: 3, 4: 1}\n"
     ]
    }
   ],
   "source": [
    "brPrvihZelja = 0\n",
    "najgoraZelja = 0\n",
    "ispunjeneZelje = {}\n",
    "for i in range(len(population[0].code)):\n",
    "    print(\"{}. studentu je dodeljen {}. i ispunjena mu je {}. zelja\".format(population[0].code[i][0], population[0].code[i][1], population[0].geneFitness(i)))\n",
    "    if population[0].geneFitness(i) == 0:\n",
    "        brPrvihZelja +=1\n",
    "    if population[0].geneFitness(i) > najgoraZelja:\n",
    "        najgoraZelja = population[0].geneFitness(i)\n",
    "    if population[0].geneFitness(i) not in ispunjeneZelje:\n",
    "        ispunjeneZelje[population[0].geneFitness(i)] = 1\n",
    "    else:\n",
    "        ispunjeneZelje[population[0].geneFitness(i)] +=1\n",
    "print(\"{}% studenata je ispunjena prva zelja\".format((brPrvihZelja*100)/population[0].brStudenata))\n",
    "print(\"najgora ispunjena zelja se nalazi u prvih {}% zelja na listi\".format((najgoraZelja*100)/population[0].brMentora))\n",
    "\n",
    "print(ispunjeneZelje)"
   ]
  },
  {
   "cell_type": "code",
   "execution_count": 152,
   "metadata": {},
   "outputs": [],
   "source": [
    "\n",
    "# brStudenata = len(zeljeStudenata)\n",
    "# brMentora = len(mentoriZauzetost)\n",
    "# mentoriKapacitet = sum(mentoriZauzetost)"
   ]
  },
  {
   "cell_type": "code",
   "execution_count": 150,
   "metadata": {},
   "outputs": [],
   "source": [
    "# !pip install python-constraint"
   ]
  },
  {
   "cell_type": "code",
   "execution_count": 151,
   "metadata": {},
   "outputs": [],
   "source": [
    "# import constraint\n",
    "# mapirajMentore = {}\n",
    "# br=0\n",
    "# for i in range(len(mentoriZauzetost)):\n",
    "#     for j in range(mentoriZauzetost[i]):\n",
    "        \n",
    "#         mapirajMentore[br] = i\n",
    "#         br += 1"
   ]
  },
  {
   "cell_type": "code",
   "execution_count": 135,
   "metadata": {},
   "outputs": [],
   "source": [
    "# problem = constraint.Problem()\n"
   ]
  },
  {
   "cell_type": "code",
   "execution_count": 136,
   "metadata": {},
   "outputs": [],
   "source": [
    "# npr niz[i]=j oznacava da je mentoru mapirajMentore[i] dodeljen j-ti student\n",
    "# problem.addVariables(['mentor_{}'.format(i) for i in range(min(mentoriKapacitet, brStudenata))], range(brStudenata))\n",
    "# problem.addConstraint(constraint.AllDifferentConstraint())\n"
   ]
  },
  {
   "cell_type": "code",
   "execution_count": null,
   "metadata": {},
   "outputs": [],
   "source": []
  },
  {
   "cell_type": "code",
   "execution_count": 137,
   "metadata": {},
   "outputs": [],
   "source": [
    "# solutions = problem.getSolutions()"
   ]
  },
  {
   "cell_type": "code",
   "execution_count": null,
   "metadata": {},
   "outputs": [],
   "source": []
  },
  {
   "cell_type": "code",
   "execution_count": 138,
   "metadata": {},
   "outputs": [],
   "source": [
    "# min_val = brStudenata*brMentora\n",
    "# najbolje_resenje = None\n",
    "\n",
    "# for sol in range solutions:\n",
    "#     val = 0\n",
    "#     for example in sol:\n",
    "    \n",
    "#         ment = int(example.strip('mentor_'))\n",
    "#         print('student {} = {}'.format(sol[example], zeljeStudenata[int(sol[example])][mapirajMentore[ment]]))\n",
    "#         val += zeljeStudenata[int(sol[example])][mapirajMentore[ment]]\n",
    "#     if min_val>val:\n",
    "#         min_val = val\n",
    "#         najbolje_resenje = sol\n"
   ]
  },
  {
   "cell_type": "code",
   "execution_count": 139,
   "metadata": {},
   "outputs": [],
   "source": [
    "# print(val)"
   ]
  },
  {
   "cell_type": "code",
   "execution_count": null,
   "metadata": {},
   "outputs": [],
   "source": []
  },
  {
   "cell_type": "code",
   "execution_count": null,
   "metadata": {},
   "outputs": [],
   "source": []
  },
  {
   "cell_type": "code",
   "execution_count": null,
   "metadata": {},
   "outputs": [],
   "source": []
  },
  {
   "cell_type": "code",
   "execution_count": null,
   "metadata": {},
   "outputs": [],
   "source": []
  }
 ],
 "metadata": {
  "kernelspec": {
   "display_name": "Python 3",
   "language": "python",
   "name": "python3"
  },
  "language_info": {
   "codemirror_mode": {
    "name": "ipython",
    "version": 3
   },
   "file_extension": ".py",
   "mimetype": "text/x-python",
   "name": "python",
   "nbconvert_exporter": "python",
   "pygments_lexer": "ipython3",
   "version": "3.8.5"
  }
 },
 "nbformat": 4,
 "nbformat_minor": 4
}
